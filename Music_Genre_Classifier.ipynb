{
 "cells": [
  {
   "cell_type": "markdown",
   "metadata": {
    "colab_type": "text",
    "id": "BTID6Ubvxl9c"
   },
   "source": [
    "# Music Genre Classifier using Classical ML Approch\n",
    "\n",
    "# Our project is mainly consisting of 6 steps\n",
    "\n",
    "1.   Getting the data\n",
    "2.   Extracting and selecting the features\n",
    "3.   Creating the CSV file that we'll work on and exploring it\n",
    "4.   Applying ML Algorithms Random forest and SVM \n",
    "5.   Creating a .pkl file to predict a new song\n",
    "6.   The simplest Console Interface ever for you to test the Model\n",
    "\n",
    "## So let's get started...\n",
    "\n",
    "### The project objective is to predict the music genre/label based on the spectral features of the physical wave itself.\n",
    "\n",
    "## **Libraries used**\n",
    "\n",
    "*   Librosa \n",
    "*   Pandas\n",
    "*   Numpy\n",
    "*   Scikit-Learn\n",
    "*   Seaborn\n",
    "*   Pickle\n",
    "*   matplotlib\n",
    "*   OS\n",
    "\n",
    "## We used the GTZAN music dataset containig 1000 songs, 10 genres, each song is 30 seconds, The tracks are all 22050Hz Mono 16-bit audio files in .wav format.\n"
   ]
  },
  {
   "cell_type": "code",
   "execution_count": 140,
   "metadata": {
    "colab": {},
    "colab_type": "code",
    "id": "8Ox1xAD23xDJ"
   },
   "outputs": [],
   "source": [
    "import librosa\n",
    "import matplotlib.pyplot as plt\n",
    "import pandas as pd\n",
    "import seaborn as sns\n",
    "import numpy as np\n",
    "from sklearn.model_selection import train_test_split\n",
    "from sklearn.ensemble import RandomForestClassifier\n",
    "from sklearn.svm import SVC\n",
    "from sklearn.model_selection import GridSearchCV\n",
    "from sklearn import preprocessing\n",
    "from sklearn import metrics\n",
    "from sklearn.preprocessing import LabelEncoder\n",
    "from sklearn.metrics import plot_confusion_matrix,confusion_matrix\n",
    "from sklearn.metrics import classification_report"
   ]
  },
  {
   "cell_type": "markdown",
   "metadata": {
    "colab_type": "text",
    "id": "SffR_vsynMA8"
   },
   "source": [
    "### After extracting the features from the original GTZan data set \"songs\", I'll use it as a csv file"
   ]
  },
  {
   "cell_type": "code",
   "execution_count": 166,
   "metadata": {
    "colab": {
     "base_uri": "https://localhost:8080/",
     "height": 734
    },
    "colab_type": "code",
    "id": "WQmPtN38oefW",
    "outputId": "03844c52-3586-406a-f7a2-9a3bc0a34513"
   },
   "outputs": [
    {
     "data": {
      "text/html": [
       "<div>\n",
       "<style scoped>\n",
       "    .dataframe tbody tr th:only-of-type {\n",
       "        vertical-align: middle;\n",
       "    }\n",
       "\n",
       "    .dataframe tbody tr th {\n",
       "        vertical-align: top;\n",
       "    }\n",
       "\n",
       "    .dataframe thead th {\n",
       "        text-align: right;\n",
       "    }\n",
       "</style>\n",
       "<table border=\"1\" class=\"dataframe\">\n",
       "  <thead>\n",
       "    <tr style=\"text-align: right;\">\n",
       "      <th></th>\n",
       "      <th>meanZCR</th>\n",
       "      <th>stdZCR</th>\n",
       "      <th>meanSpecCentroid</th>\n",
       "      <th>stdSpecCentroid</th>\n",
       "      <th>meanSpecContrast</th>\n",
       "      <th>stdSpecContrast</th>\n",
       "      <th>meanSpecBandwidth</th>\n",
       "      <th>stdSpecBandwidth</th>\n",
       "      <th>meanSpecRollof</th>\n",
       "      <th>stdSpecRollof</th>\n",
       "      <th>...</th>\n",
       "      <th>stdMFCC_9</th>\n",
       "      <th>meanMFCC_10</th>\n",
       "      <th>stdMFCC_10</th>\n",
       "      <th>meanMFCC_11</th>\n",
       "      <th>stdMFCC_11</th>\n",
       "      <th>meanMFCC_12</th>\n",
       "      <th>stdMFCC_12</th>\n",
       "      <th>meanMFCC_13</th>\n",
       "      <th>stdMFCC_13</th>\n",
       "      <th>genre</th>\n",
       "    </tr>\n",
       "  </thead>\n",
       "  <tbody>\n",
       "    <tr>\n",
       "      <td>0</td>\n",
       "      <td>-0.505871</td>\n",
       "      <td>-0.784343</td>\n",
       "      <td>-0.381408</td>\n",
       "      <td>-0.691147</td>\n",
       "      <td>-0.107291</td>\n",
       "      <td>0.349902</td>\n",
       "      <td>-0.187280</td>\n",
       "      <td>-0.572265</td>\n",
       "      <td>-0.236668</td>\n",
       "      <td>-0.455356</td>\n",
       "      <td>...</td>\n",
       "      <td>-0.114378</td>\n",
       "      <td>-0.174782</td>\n",
       "      <td>-0.716931</td>\n",
       "      <td>0.379757</td>\n",
       "      <td>-0.826331</td>\n",
       "      <td>0.065192</td>\n",
       "      <td>-0.802478</td>\n",
       "      <td>0.243325</td>\n",
       "      <td>-0.609704</td>\n",
       "      <td>blues</td>\n",
       "    </tr>\n",
       "    <tr>\n",
       "      <td>1</td>\n",
       "      <td>-0.789556</td>\n",
       "      <td>-0.726759</td>\n",
       "      <td>-0.559681</td>\n",
       "      <td>-0.463433</td>\n",
       "      <td>-0.214652</td>\n",
       "      <td>0.274741</td>\n",
       "      <td>-0.139501</td>\n",
       "      <td>-0.414690</td>\n",
       "      <td>-0.333817</td>\n",
       "      <td>0.018836</td>\n",
       "      <td>...</td>\n",
       "      <td>0.103460</td>\n",
       "      <td>0.112254</td>\n",
       "      <td>-0.611377</td>\n",
       "      <td>0.466185</td>\n",
       "      <td>-0.771335</td>\n",
       "      <td>0.270596</td>\n",
       "      <td>-0.480038</td>\n",
       "      <td>0.286445</td>\n",
       "      <td>-0.546068</td>\n",
       "      <td>blues</td>\n",
       "    </tr>\n",
       "    <tr>\n",
       "      <td>2</td>\n",
       "      <td>-0.590099</td>\n",
       "      <td>-0.556617</td>\n",
       "      <td>-0.500726</td>\n",
       "      <td>-0.520669</td>\n",
       "      <td>0.110841</td>\n",
       "      <td>0.342202</td>\n",
       "      <td>-0.352145</td>\n",
       "      <td>-0.704373</td>\n",
       "      <td>-0.413241</td>\n",
       "      <td>-0.486896</td>\n",
       "      <td>...</td>\n",
       "      <td>-0.166338</td>\n",
       "      <td>-0.354216</td>\n",
       "      <td>-0.664704</td>\n",
       "      <td>0.180107</td>\n",
       "      <td>-0.751552</td>\n",
       "      <td>-0.094467</td>\n",
       "      <td>-0.647450</td>\n",
       "      <td>-0.182938</td>\n",
       "      <td>-0.530300</td>\n",
       "      <td>blues</td>\n",
       "    </tr>\n",
       "    <tr>\n",
       "      <td>3</td>\n",
       "      <td>-0.943024</td>\n",
       "      <td>-0.920130</td>\n",
       "      <td>-0.872967</td>\n",
       "      <td>-0.743929</td>\n",
       "      <td>-0.069544</td>\n",
       "      <td>0.043430</td>\n",
       "      <td>-0.635685</td>\n",
       "      <td>-0.596014</td>\n",
       "      <td>-0.772659</td>\n",
       "      <td>-0.550906</td>\n",
       "      <td>...</td>\n",
       "      <td>-0.747465</td>\n",
       "      <td>0.293044</td>\n",
       "      <td>-0.776384</td>\n",
       "      <td>0.104992</td>\n",
       "      <td>-0.925492</td>\n",
       "      <td>0.202960</td>\n",
       "      <td>-0.847504</td>\n",
       "      <td>-0.116092</td>\n",
       "      <td>-0.708645</td>\n",
       "      <td>blues</td>\n",
       "    </tr>\n",
       "    <tr>\n",
       "      <td>4</td>\n",
       "      <td>-0.205440</td>\n",
       "      <td>-0.400993</td>\n",
       "      <td>-0.236112</td>\n",
       "      <td>-0.243814</td>\n",
       "      <td>0.190382</td>\n",
       "      <td>0.270769</td>\n",
       "      <td>-0.310327</td>\n",
       "      <td>-0.532099</td>\n",
       "      <td>-0.198146</td>\n",
       "      <td>-0.129946</td>\n",
       "      <td>...</td>\n",
       "      <td>0.135571</td>\n",
       "      <td>-0.436034</td>\n",
       "      <td>-0.672466</td>\n",
       "      <td>-0.180337</td>\n",
       "      <td>-0.717212</td>\n",
       "      <td>0.166494</td>\n",
       "      <td>-0.222193</td>\n",
       "      <td>-0.367990</td>\n",
       "      <td>-0.278997</td>\n",
       "      <td>blues</td>\n",
       "    </tr>\n",
       "  </tbody>\n",
       "</table>\n",
       "<p>5 rows × 37 columns</p>\n",
       "</div>"
      ],
      "text/plain": [
       "    meanZCR    stdZCR  meanSpecCentroid  stdSpecCentroid  meanSpecContrast  \\\n",
       "0 -0.505871 -0.784343         -0.381408        -0.691147         -0.107291   \n",
       "1 -0.789556 -0.726759         -0.559681        -0.463433         -0.214652   \n",
       "2 -0.590099 -0.556617         -0.500726        -0.520669          0.110841   \n",
       "3 -0.943024 -0.920130         -0.872967        -0.743929         -0.069544   \n",
       "4 -0.205440 -0.400993         -0.236112        -0.243814          0.190382   \n",
       "\n",
       "   stdSpecContrast  meanSpecBandwidth  stdSpecBandwidth  meanSpecRollof  \\\n",
       "0         0.349902          -0.187280         -0.572265       -0.236668   \n",
       "1         0.274741          -0.139501         -0.414690       -0.333817   \n",
       "2         0.342202          -0.352145         -0.704373       -0.413241   \n",
       "3         0.043430          -0.635685         -0.596014       -0.772659   \n",
       "4         0.270769          -0.310327         -0.532099       -0.198146   \n",
       "\n",
       "   stdSpecRollof  ...  stdMFCC_9  meanMFCC_10  stdMFCC_10  meanMFCC_11  \\\n",
       "0      -0.455356  ...  -0.114378    -0.174782   -0.716931     0.379757   \n",
       "1       0.018836  ...   0.103460     0.112254   -0.611377     0.466185   \n",
       "2      -0.486896  ...  -0.166338    -0.354216   -0.664704     0.180107   \n",
       "3      -0.550906  ...  -0.747465     0.293044   -0.776384     0.104992   \n",
       "4      -0.129946  ...   0.135571    -0.436034   -0.672466    -0.180337   \n",
       "\n",
       "   stdMFCC_11  meanMFCC_12  stdMFCC_12  meanMFCC_13  stdMFCC_13  genre  \n",
       "0   -0.826331     0.065192   -0.802478     0.243325   -0.609704  blues  \n",
       "1   -0.771335     0.270596   -0.480038     0.286445   -0.546068  blues  \n",
       "2   -0.751552    -0.094467   -0.647450    -0.182938   -0.530300  blues  \n",
       "3   -0.925492     0.202960   -0.847504    -0.116092   -0.708645  blues  \n",
       "4   -0.717212     0.166494   -0.222193    -0.367990   -0.278997  blues  \n",
       "\n",
       "[5 rows x 37 columns]"
      ]
     },
     "execution_count": 166,
     "metadata": {},
     "output_type": "execute_result"
    }
   ],
   "source": [
    "df=pd.read_csv('data.csv')\n",
    "df.head()"
   ]
  },
  {
   "cell_type": "markdown",
   "metadata": {},
   "source": [
    "### Genre labels are string so let's convert them, also I'll not use the genre disco as it's noisy"
   ]
  },
  {
   "cell_type": "code",
   "execution_count": 167,
   "metadata": {},
   "outputs": [],
   "source": [
    "le= LabelEncoder()\n",
    "labels=['blues','classical','country','hiphop','jazz','metal','pop','reggae','rock']\n",
    "df=df[df.genre != 'disco']\n",
    "df['genre']=le.fit_transform(df['genre'])"
   ]
  },
  {
   "cell_type": "code",
   "execution_count": 156,
   "metadata": {},
   "outputs": [
    {
     "data": {
      "text/plain": [
       "8    100\n",
       "7    100\n",
       "6    100\n",
       "5    100\n",
       "4    100\n",
       "3    100\n",
       "2    100\n",
       "1    100\n",
       "0    100\n",
       "Name: genre, dtype: int64"
      ]
     },
     "execution_count": 156,
     "metadata": {},
     "output_type": "execute_result"
    }
   ],
   "source": [
    "df.genre.value_counts()"
   ]
  },
  {
   "cell_type": "code",
   "execution_count": 155,
   "metadata": {},
   "outputs": [
    {
     "data": {
      "text/plain": [
       "(900, 37)"
      ]
     },
     "execution_count": 155,
     "metadata": {},
     "output_type": "execute_result"
    }
   ],
   "source": [
    "df.shape"
   ]
  },
  {
   "cell_type": "code",
   "execution_count": 135,
   "metadata": {},
   "outputs": [
    {
     "data": {
      "text/plain": [
       "Index(['meanZCR', 'stdZCR', 'meanSpecCentroid', 'stdSpecCentroid',\n",
       "       'meanSpecContrast', 'stdSpecContrast', 'meanSpecBandwidth',\n",
       "       'stdSpecBandwidth', 'meanSpecRollof', 'stdSpecRollof', 'meanMFCC_1',\n",
       "       'stdMFCC_1', 'meanMFCC_2', 'stdMFCC_2', 'meanMFCC_3', 'stdMFCC_3',\n",
       "       'meanMFCC_4', 'stdMFCC_4', 'meanMFCC_5', 'stdMFCC_5', 'meanMFCC_6',\n",
       "       'stdMFCC_6', 'meanMFCC_7', 'stdMFCC_7', 'meanMFCC_8', 'stdMFCC_8',\n",
       "       'meanMFCC_9', 'stdMFCC_9', 'meanMFCC_10', 'stdMFCC_10', 'meanMFCC_11',\n",
       "       'stdMFCC_11', 'meanMFCC_12', 'stdMFCC_12', 'meanMFCC_13', 'stdMFCC_13',\n",
       "       'genre'],\n",
       "      dtype='object')"
      ]
     },
     "execution_count": 135,
     "metadata": {},
     "output_type": "execute_result"
    }
   ],
   "source": [
    "df.columns"
   ]
  },
  {
   "cell_type": "markdown",
   "metadata": {},
   "source": [
    "### separate target from features,.."
   ]
  },
  {
   "cell_type": "code",
   "execution_count": 157,
   "metadata": {
    "colab": {
     "base_uri": "https://localhost:8080/",
     "height": 215
    },
    "colab_type": "code",
    "id": "-Om-LWcD6Lzk",
    "outputId": "673911d0-96fb-4f62-920c-c2ee167ff12c"
   },
   "outputs": [],
   "source": [
    "X=df.drop('genre',axis=1)\n",
    "y=df['genre']"
   ]
  },
  {
   "cell_type": "code",
   "execution_count": 158,
   "metadata": {
    "colab": {
     "base_uri": "https://localhost:8080/",
     "height": 304
    },
    "colab_type": "code",
    "id": "5V9eUbBUrGsP",
    "outputId": "d626d851-a41d-434b-da65-bb9194e7ab31"
   },
   "outputs": [],
   "source": [
    "X_train, X_test, y_train, y_test = train_test_split(X, y, test_size=0.1, random_state=10,stratify=y)"
   ]
  },
  {
   "cell_type": "code",
   "execution_count": 119,
   "metadata": {
    "colab": {},
    "colab_type": "code",
    "id": "Jj27zpsE8_K-"
   },
   "outputs": [
    {
     "data": {
      "text/plain": [
       "(900, 36)"
      ]
     },
     "execution_count": 119,
     "metadata": {},
     "output_type": "execute_result"
    }
   ],
   "source": [
    "X_train.shape"
   ]
  },
  {
   "cell_type": "code",
   "execution_count": 79,
   "metadata": {},
   "outputs": [
    {
     "data": {
      "text/plain": [
       "9    90\n",
       "8    90\n",
       "7    90\n",
       "6    90\n",
       "5    90\n",
       "4    90\n",
       "3    90\n",
       "2    90\n",
       "1    90\n",
       "0    90\n",
       "Name: genre, dtype: int64"
      ]
     },
     "execution_count": 79,
     "metadata": {},
     "output_type": "execute_result"
    }
   ],
   "source": [
    "y_train.value_counts()"
   ]
  },
  {
   "cell_type": "code",
   "execution_count": 120,
   "metadata": {},
   "outputs": [
    {
     "data": {
      "text/plain": [
       "9    10\n",
       "8    10\n",
       "7    10\n",
       "6    10\n",
       "5    10\n",
       "4    10\n",
       "3    10\n",
       "2    10\n",
       "1    10\n",
       "0    10\n",
       "Name: genre, dtype: int64"
      ]
     },
     "execution_count": 120,
     "metadata": {},
     "output_type": "execute_result"
    }
   ],
   "source": [
    "y_test.value_counts()"
   ]
  },
  {
   "cell_type": "markdown",
   "metadata": {},
   "source": [
    "### Support vector machine with gridsearch"
   ]
  },
  {
   "cell_type": "code",
   "execution_count": 105,
   "metadata": {
    "colab_type": "text",
    "id": "0_A4Sg0hAyzj"
   },
   "outputs": [
    {
     "data": {
      "text/plain": [
       "GridSearchCV(cv=None, error_score=nan,\n",
       "             estimator=SVC(C=1.0, break_ties=False, cache_size=200,\n",
       "                           class_weight=None, coef0=0.0,\n",
       "                           decision_function_shape='ovr', degree=3,\n",
       "                           gamma='scale', kernel='rbf', max_iter=-1,\n",
       "                           probability=False, random_state=None, shrinking=True,\n",
       "                           tol=0.001, verbose=False),\n",
       "             iid='deprecated', n_jobs=None,\n",
       "             param_grid=[{'C': [1, 10, 100, 200],\n",
       "                          'gamma': [0.001, 0.08, 0.01, 0.0001],\n",
       "                          'kernel': ['rbf', 'linear']}],\n",
       "             pre_dispatch='2*n_jobs', refit=True, return_train_score=False,\n",
       "             scoring=None, verbose=0)"
      ]
     },
     "execution_count": 105,
     "metadata": {},
     "output_type": "execute_result"
    }
   ],
   "source": [
    "svm=SVC()\n",
    "parameters = [\n",
    "  {'C': [1, 10, 100, 200], 'gamma': [0.001,0.08,0.01, 0.0001], 'kernel': ['rbf','linear']},\n",
    "]\n",
    "clf = GridSearchCV(svm, parameters)\n",
    "clf.fit(X_train,y_train)"
   ]
  },
  {
   "cell_type": "code",
   "execution_count": 106,
   "metadata": {
    "colab": {},
    "colab_type": "code",
    "id": "zdYUWjWTDPWi"
   },
   "outputs": [
    {
     "data": {
      "text/plain": [
       "0.6611111111111111"
      ]
     },
     "execution_count": 106,
     "metadata": {},
     "output_type": "execute_result"
    }
   ],
   "source": [
    "clf.best_score_"
   ]
  },
  {
   "cell_type": "code",
   "execution_count": 107,
   "metadata": {},
   "outputs": [
    {
     "name": "stdout",
     "output_type": "stream",
     "text": [
      "Best C: 10\n",
      "Best Kernel: rbf\n",
      "Best Gamma: 0.08\n"
     ]
    }
   ],
   "source": [
    "print('Best C:',clf.best_estimator_.C) \n",
    "print('Best Kernel:',clf.best_estimator_.kernel)\n",
    "print('Best Gamma:',clf.best_estimator_.gamma)"
   ]
  },
  {
   "cell_type": "code",
   "execution_count": 159,
   "metadata": {},
   "outputs": [],
   "source": [
    "modelsvm=SVC(C=10, kernel='rbf', gamma=0.08).fit(X_train, y_train)"
   ]
  },
  {
   "cell_type": "code",
   "execution_count": 161,
   "metadata": {},
   "outputs": [
    {
     "name": "stdout",
     "output_type": "stream",
     "text": [
      "              precision    recall  f1-score   support\n",
      "\n",
      "           0       0.62      0.80      0.70        10\n",
      "           1       0.75      0.90      0.82        10\n",
      "           2       0.64      0.70      0.67        10\n",
      "           3       0.90      0.90      0.90        10\n",
      "           4       0.60      0.60      0.60        10\n",
      "           5       0.88      0.70      0.78        10\n",
      "           6       0.78      0.70      0.74        10\n",
      "           7       0.73      0.80      0.76        10\n",
      "           8       0.67      0.40      0.50        10\n",
      "\n",
      "    accuracy                           0.72        90\n",
      "   macro avg       0.73      0.72      0.72        90\n",
      "weighted avg       0.73      0.72      0.72        90\n",
      "\n"
     ]
    }
   ],
   "source": [
    "ypredsv=modelsvm.predict(X_test)\n",
    "print(classification_report(y_test, ypredsv))"
   ]
  },
  {
   "cell_type": "code",
   "execution_count": 163,
   "metadata": {
    "scrolled": true
   },
   "outputs": [
    {
     "data": {
      "text/plain": [
       "<sklearn.metrics._plot.confusion_matrix.ConfusionMatrixDisplay at 0x18913cf8748>"
      ]
     },
     "execution_count": 163,
     "metadata": {},
     "output_type": "execute_result"
    },
    {
     "data": {
      "image/png": "[encoded data removed]",
      "text/plain": [
       "<Figure size 432x288 with 2 Axes>"
      ]
     },
     "metadata": {
      "needs_background": "light"
     },
     "output_type": "display_data"
    }
   ],
   "source": [
    "plot_confusion_matrix(modelsvm, X_test, y_test, display_labels=labels,xticks_rotation=45)"
   ]
  },
  {
   "cell_type": "markdown",
   "metadata": {},
   "source": [
    "### Random Forest "
   ]
  },
  {
   "cell_type": "code",
   "execution_count": 160,
   "metadata": {},
   "outputs": [
    {
     "data": {
      "text/plain": [
       "RandomForestClassifier(bootstrap=True, ccp_alpha=0.0, class_weight=None,\n",
       "                       criterion='gini', max_depth=None, max_features='auto',\n",
       "                       max_leaf_nodes=None, max_samples=None,\n",
       "                       min_impurity_decrease=0.0, min_impurity_split=None,\n",
       "                       min_samples_leaf=1, min_samples_split=2,\n",
       "                       min_weight_fraction_leaf=0.0, n_estimators=19,\n",
       "                       n_jobs=None, oob_score=False, random_state=None,\n",
       "                       verbose=0, warm_start=False)"
      ]
     },
     "execution_count": 160,
     "metadata": {},
     "output_type": "execute_result"
    }
   ],
   "source": [
    "rf=RandomForestClassifier(n_estimators=19)\n",
    "rf.fit(X_train,y_train)"
   ]
  },
  {
   "cell_type": "code",
   "execution_count": 162,
   "metadata": {},
   "outputs": [
    {
     "name": "stdout",
     "output_type": "stream",
     "text": [
      "              precision    recall  f1-score   support\n",
      "\n",
      "           0       0.45      0.50      0.48        10\n",
      "           1       0.75      0.90      0.82        10\n",
      "           2       0.47      0.70      0.56        10\n",
      "           3       0.75      0.60      0.67        10\n",
      "           4       0.71      0.50      0.59        10\n",
      "           5       0.86      0.60      0.71        10\n",
      "           6       0.73      0.80      0.76        10\n",
      "           7       0.55      0.60      0.57        10\n",
      "           8       0.50      0.40      0.44        10\n",
      "\n",
      "    accuracy                           0.62        90\n",
      "   macro avg       0.64      0.62      0.62        90\n",
      "weighted avg       0.64      0.62      0.62        90\n",
      "\n"
     ]
    }
   ],
   "source": [
    "ypredrf=rf.predict(X_test)\n",
    "print(classification_report(y_test, ypredrf))"
   ]
  },
  {
   "cell_type": "code",
   "execution_count": 164,
   "metadata": {},
   "outputs": [
    {
     "data": {
      "text/plain": [
       "<sklearn.metrics._plot.confusion_matrix.ConfusionMatrixDisplay at 0x18913df7898>"
      ]
     },
     "execution_count": 164,
     "metadata": {},
     "output_type": "execute_result"
    },
    {
     "data": {
      "image/png": "[encoded data removed]",
      "text/plain": [
       "<Figure size 432x288 with 2 Axes>"
      ]
     },
     "metadata": {
      "needs_background": "light"
     },
     "output_type": "display_data"
    }
   ],
   "source": [
    "plot_confusion_matrix(rf, X_test, y_test, display_labels=labels,xticks_rotation=45)"
   ]
  },
  {
   "cell_type": "markdown",
   "metadata": {},
   "source": [
    "### In conclusion SVM did better that Random forest a sure thing that we need more tuning and feature engineering to improve performance, will be put on my todo list ^_^"
   ]
  },
  {
   "cell_type": "markdown",
   "metadata": {},
   "source": [
    "###  I'd try KNN "
   ]
  },
  {
   "cell_type": "code",
   "execution_count": 188,
   "metadata": {},
   "outputs": [
    {
     "data": {
      "text/plain": [
       "KNeighborsClassifier(algorithm='auto', leaf_size=30, metric='minkowski',\n",
       "                     metric_params=None, n_jobs=None, n_neighbors=9, p=2,\n",
       "                     weights='uniform')"
      ]
     },
     "execution_count": 188,
     "metadata": {},
     "output_type": "execute_result"
    }
   ],
   "source": [
    "from sklearn.neighbors import KNeighborsClassifier\n",
    "knn=KNeighborsClassifier(n_neighbors=9)\n",
    "knn.fit(X_train,y_train)"
   ]
  },
  {
   "cell_type": "code",
   "execution_count": 189,
   "metadata": {},
   "outputs": [
    {
     "name": "stdout",
     "output_type": "stream",
     "text": [
      "              precision    recall  f1-score   support\n",
      "\n",
      "           0       0.67      0.60      0.63        10\n",
      "           1       0.73      0.80      0.76        10\n",
      "           2       0.40      0.60      0.48        10\n",
      "           3       0.62      0.80      0.70        10\n",
      "           4       0.71      0.50      0.59        10\n",
      "           5       1.00      0.70      0.82        10\n",
      "           6       0.75      0.60      0.67        10\n",
      "           7       0.54      0.70      0.61        10\n",
      "           8       0.57      0.40      0.47        10\n",
      "\n",
      "    accuracy                           0.63        90\n",
      "   macro avg       0.66      0.63      0.64        90\n",
      "weighted avg       0.66      0.63      0.64        90\n",
      "\n"
     ]
    }
   ],
   "source": [
    "ypredknn=knn.predict(X_test)\n",
    "print(classification_report(y_test, ypredknn))"
   ]
  },
  {
   "cell_type": "code",
   "execution_count": 190,
   "metadata": {},
   "outputs": [
    {
     "data": {
      "text/plain": [
       "<sklearn.metrics._plot.confusion_matrix.ConfusionMatrixDisplay at 0x18914752470>"
      ]
     },
     "execution_count": 190,
     "metadata": {},
     "output_type": "execute_result"
    },
    {
     "data": {
      "image/png": "[encoded data removed]",
      "text/plain": [
       "<Figure size 432x288 with 2 Axes>"
      ]
     },
     "metadata": {
      "needs_background": "light"
     },
     "output_type": "display_data"
    }
   ],
   "source": [
    "plot_confusion_matrix(knn, X_test, y_test, display_labels=labels,xticks_rotation=45)"
   ]
  },
  {
   "cell_type": "code",
   "execution_count": null,
   "metadata": {},
   "outputs": [],
   "source": []
  }
 ],
 "metadata": {
  "colab": {
   "collapsed_sections": [],
   "name": "Music Genre Classifier.ipynb",
   "provenance": []
  },
  "kernelspec": {
   "display_name": "Python 3",
   "language": "python",
   "name": "python3"
  },
  "language_info": {
   "codemirror_mode": {
    "name": "ipython",
    "version": 3
   },
   "file_extension": ".py",
   "mimetype": "text/x-python",
   "name": "python",
   "nbconvert_exporter": "python",
   "pygments_lexer": "ipython3",
   "version": "3.7.3"
  }
 },
 "nbformat": 4,
 "nbformat_minor": 1
}
